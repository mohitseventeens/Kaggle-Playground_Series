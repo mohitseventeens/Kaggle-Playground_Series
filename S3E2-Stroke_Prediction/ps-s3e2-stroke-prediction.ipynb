{
 "cells": [
  {
   "cell_type": "markdown",
   "id": "83d013ce",
   "metadata": {
    "papermill": {
     "duration": 0.00517,
     "end_time": "2023-04-13T13:36:10.608839",
     "exception": false,
     "start_time": "2023-04-13T13:36:10.603669",
     "status": "completed"
    },
    "tags": []
   },
   "source": [
    "# Stroke Prediction"
   ]
  },
  {
   "cell_type": "markdown",
   "id": "d53d44fa",
   "metadata": {
    "papermill": {
     "duration": 0.003707,
     "end_time": "2023-04-13T13:36:10.616707",
     "exception": false,
     "start_time": "2023-04-13T13:36:10.613000",
     "status": "completed"
    },
    "tags": []
   },
   "source": [
    "## Introduction\n",
    "\n",
    "The competition is based on a dataset generated from a deep learning model trained on the [Stroke prediction Dataset](https://www.kaggle.com/datasets/fedesoriano/stroke-prediction-dataset), with feature distributions similar but not exactly the same as the original. Submissions are evaluated on area under the **ROC curve** between the predicted probability and the observed target."
   ]
  },
  {
   "cell_type": "markdown",
   "id": "e969c98a",
   "metadata": {
    "papermill": {
     "duration": 0.003632,
     "end_time": "2023-04-13T13:36:10.624299",
     "exception": false,
     "start_time": "2023-04-13T13:36:10.620667",
     "status": "completed"
    },
    "tags": []
   },
   "source": [
    "## Data Description\n",
    "\n",
    "According to the World Health Organization (WHO), stroke is the 2nd leading cause of death globally, responsible for approximately 11% of total deaths. This dataset is used to predict whether a patient is likely to get stroke based on the input parameters like gender, age, various diseases, and smoking status. Each row in the data provides relevant information about the patient.\n",
    "\n",
    "**Attribute Information:**\n",
    "- `id`: unique identifier\n",
    "- `gender`: \"Male\", \"Female\" or \"Other\"\n",
    "- `age`: age of the patient\n",
    "- `hypertension`: 0 if the patient doesn't have hypertension, 1 if the patient has hypertension\n",
    "- `heart_disease`: 0 if the patient doesn't have any heart diseases, 1 if the patient has a heart disease\n",
    "- `ever_married`: \"No\" or \"Yes\"\n",
    "- `work_type`: \"children\", \"Govt_job\", \"Never_worked\", \"Private\" or \"Self-employed\"\n",
    "- `Residence_type`: \"Rural\" or \"Urban\"\n",
    "- `avg_glucose_level`: average glucose level in blood\n",
    "- `bmi`: body mass index\n",
    "- `smoking_status`: \"formerly smoked\", \"never smoked\", \"smokes\" or \"Unknown\"*\n",
    "- `stroke`: 1 if the patient had a stroke or 0 if not\n",
    "\n",
    "*Note: \"Unknown\" in smoking_status means that the information is unavailable for this patient"
   ]
  },
  {
   "cell_type": "markdown",
   "id": "8cca5c15",
   "metadata": {
    "papermill": {
     "duration": 0.003539,
     "end_time": "2023-04-13T13:36:10.631640",
     "exception": false,
     "start_time": "2023-04-13T13:36:10.628101",
     "status": "completed"
    },
    "tags": []
   },
   "source": [
    "## Loading the required libraries\n",
    "\n",
    "Loading generally used libraries, other required libraries will be loaded later"
   ]
  },
  {
   "cell_type": "code",
   "execution_count": 1,
   "id": "c26a853c",
   "metadata": {
    "execution": {
     "iopub.execute_input": "2023-04-13T13:36:10.641069Z",
     "iopub.status.busy": "2023-04-13T13:36:10.640641Z",
     "iopub.status.idle": "2023-04-13T13:36:11.915874Z",
     "shell.execute_reply": "2023-04-13T13:36:11.914580Z"
    },
    "papermill": {
     "duration": 1.283544,
     "end_time": "2023-04-13T13:36:11.918919",
     "exception": false,
     "start_time": "2023-04-13T13:36:10.635375",
     "status": "completed"
    },
    "tags": []
   },
   "outputs": [],
   "source": [
    "import numpy as np\n",
    "import pandas as pd\n",
    "\n",
    "import matplotlib.pyplot as plt\n",
    "import matplotlib.cm as cm\n",
    "import matplotlib.colors as mpl_colors\n",
    "import seaborn as sns"
   ]
  },
  {
   "cell_type": "markdown",
   "id": "429cc8d3",
   "metadata": {
    "papermill": {
     "duration": 0.003645,
     "end_time": "2023-04-13T13:36:11.926711",
     "exception": false,
     "start_time": "2023-04-13T13:36:11.923066",
     "status": "completed"
    },
    "tags": []
   },
   "source": [
    "## Loading the data"
   ]
  },
  {
   "cell_type": "code",
   "execution_count": 2,
   "id": "efaa8233",
   "metadata": {
    "execution": {
     "iopub.execute_input": "2023-04-13T13:36:11.936806Z",
     "iopub.status.busy": "2023-04-13T13:36:11.936333Z",
     "iopub.status.idle": "2023-04-13T13:36:11.946986Z",
     "shell.execute_reply": "2023-04-13T13:36:11.945527Z"
    },
    "papermill": {
     "duration": 0.018999,
     "end_time": "2023-04-13T13:36:11.949718",
     "exception": false,
     "start_time": "2023-04-13T13:36:11.930719",
     "status": "completed"
    },
    "tags": []
   },
   "outputs": [
    {
     "name": "stdout",
     "output_type": "stream",
     "text": [
      "/kaggle/input/playground-series-s3e2/sample_submission.csv\n",
      "/kaggle/input/playground-series-s3e2/train.csv\n",
      "/kaggle/input/playground-series-s3e2/test.csv\n"
     ]
    }
   ],
   "source": [
    "import os\n",
    "for dirname, _, filenames in os.walk('/kaggle/input'):\n",
    "    for filename in filenames:\n",
    "        print(os.path.join(dirname, filename))"
   ]
  },
  {
   "cell_type": "code",
   "execution_count": 3,
   "id": "23796b2d",
   "metadata": {
    "execution": {
     "iopub.execute_input": "2023-04-13T13:36:11.960561Z",
     "iopub.status.busy": "2023-04-13T13:36:11.959374Z",
     "iopub.status.idle": "2023-04-13T13:36:12.075838Z",
     "shell.execute_reply": "2023-04-13T13:36:12.074895Z"
    },
    "papermill": {
     "duration": 0.124953,
     "end_time": "2023-04-13T13:36:12.078860",
     "exception": false,
     "start_time": "2023-04-13T13:36:11.953907",
     "status": "completed"
    },
    "tags": []
   },
   "outputs": [],
   "source": [
    "train = pd.read_csv('/kaggle/input/playground-series-s3e2/train.csv')\n",
    "test = pd.read_csv('/kaggle/input/playground-series-s3e2/test.csv')\n",
    "sample_submission = pd.read_csv('/kaggle/input/playground-series-s3e2/sample_submission.csv')"
   ]
  },
  {
   "cell_type": "markdown",
   "id": "bde28d71",
   "metadata": {
    "papermill": {
     "duration": 0.003772,
     "end_time": "2023-04-13T13:36:12.086828",
     "exception": false,
     "start_time": "2023-04-13T13:36:12.083056",
     "status": "completed"
    },
    "tags": []
   },
   "source": [
    "# Exploratory Data Analysis (EDA)"
   ]
  },
  {
   "cell_type": "code",
   "execution_count": 4,
   "id": "cf05a0a3",
   "metadata": {
    "execution": {
     "iopub.execute_input": "2023-04-13T13:36:12.097792Z",
     "iopub.status.busy": "2023-04-13T13:36:12.096883Z",
     "iopub.status.idle": "2023-04-13T13:36:12.134085Z",
     "shell.execute_reply": "2023-04-13T13:36:12.132768Z"
    },
    "papermill": {
     "duration": 0.045691,
     "end_time": "2023-04-13T13:36:12.136751",
     "exception": false,
     "start_time": "2023-04-13T13:36:12.091060",
     "status": "completed"
    },
    "tags": []
   },
   "outputs": [
    {
     "name": "stdout",
     "output_type": "stream",
     "text": [
      "The first few rows of the training dataset:\n",
      "\n"
     ]
    },
    {
     "data": {
      "text/html": [
       "<div>\n",
       "<style scoped>\n",
       "    .dataframe tbody tr th:only-of-type {\n",
       "        vertical-align: middle;\n",
       "    }\n",
       "\n",
       "    .dataframe tbody tr th {\n",
       "        vertical-align: top;\n",
       "    }\n",
       "\n",
       "    .dataframe thead th {\n",
       "        text-align: right;\n",
       "    }\n",
       "</style>\n",
       "<table border=\"1\" class=\"dataframe\">\n",
       "  <thead>\n",
       "    <tr style=\"text-align: right;\">\n",
       "      <th></th>\n",
       "      <th>id</th>\n",
       "      <th>gender</th>\n",
       "      <th>age</th>\n",
       "      <th>hypertension</th>\n",
       "      <th>heart_disease</th>\n",
       "      <th>ever_married</th>\n",
       "      <th>work_type</th>\n",
       "      <th>Residence_type</th>\n",
       "      <th>avg_glucose_level</th>\n",
       "      <th>bmi</th>\n",
       "      <th>smoking_status</th>\n",
       "      <th>stroke</th>\n",
       "    </tr>\n",
       "  </thead>\n",
       "  <tbody>\n",
       "    <tr>\n",
       "      <th>0</th>\n",
       "      <td>0</td>\n",
       "      <td>Male</td>\n",
       "      <td>28.0</td>\n",
       "      <td>0</td>\n",
       "      <td>0</td>\n",
       "      <td>Yes</td>\n",
       "      <td>Private</td>\n",
       "      <td>Urban</td>\n",
       "      <td>79.53</td>\n",
       "      <td>31.1</td>\n",
       "      <td>never smoked</td>\n",
       "      <td>0</td>\n",
       "    </tr>\n",
       "    <tr>\n",
       "      <th>1</th>\n",
       "      <td>1</td>\n",
       "      <td>Male</td>\n",
       "      <td>33.0</td>\n",
       "      <td>0</td>\n",
       "      <td>0</td>\n",
       "      <td>Yes</td>\n",
       "      <td>Private</td>\n",
       "      <td>Rural</td>\n",
       "      <td>78.44</td>\n",
       "      <td>23.9</td>\n",
       "      <td>formerly smoked</td>\n",
       "      <td>0</td>\n",
       "    </tr>\n",
       "    <tr>\n",
       "      <th>2</th>\n",
       "      <td>2</td>\n",
       "      <td>Female</td>\n",
       "      <td>42.0</td>\n",
       "      <td>0</td>\n",
       "      <td>0</td>\n",
       "      <td>Yes</td>\n",
       "      <td>Private</td>\n",
       "      <td>Rural</td>\n",
       "      <td>103.00</td>\n",
       "      <td>40.3</td>\n",
       "      <td>Unknown</td>\n",
       "      <td>0</td>\n",
       "    </tr>\n",
       "    <tr>\n",
       "      <th>3</th>\n",
       "      <td>3</td>\n",
       "      <td>Male</td>\n",
       "      <td>56.0</td>\n",
       "      <td>0</td>\n",
       "      <td>0</td>\n",
       "      <td>Yes</td>\n",
       "      <td>Private</td>\n",
       "      <td>Urban</td>\n",
       "      <td>64.87</td>\n",
       "      <td>28.8</td>\n",
       "      <td>never smoked</td>\n",
       "      <td>0</td>\n",
       "    </tr>\n",
       "    <tr>\n",
       "      <th>4</th>\n",
       "      <td>4</td>\n",
       "      <td>Female</td>\n",
       "      <td>24.0</td>\n",
       "      <td>0</td>\n",
       "      <td>0</td>\n",
       "      <td>No</td>\n",
       "      <td>Private</td>\n",
       "      <td>Rural</td>\n",
       "      <td>73.36</td>\n",
       "      <td>28.8</td>\n",
       "      <td>never smoked</td>\n",
       "      <td>0</td>\n",
       "    </tr>\n",
       "  </tbody>\n",
       "</table>\n",
       "</div>"
      ],
      "text/plain": [
       "   id  gender   age  hypertension  heart_disease ever_married work_type  \\\n",
       "0   0    Male  28.0             0              0          Yes   Private   \n",
       "1   1    Male  33.0             0              0          Yes   Private   \n",
       "2   2  Female  42.0             0              0          Yes   Private   \n",
       "3   3    Male  56.0             0              0          Yes   Private   \n",
       "4   4  Female  24.0             0              0           No   Private   \n",
       "\n",
       "  Residence_type  avg_glucose_level   bmi   smoking_status  stroke  \n",
       "0          Urban              79.53  31.1     never smoked       0  \n",
       "1          Rural              78.44  23.9  formerly smoked       0  \n",
       "2          Rural             103.00  40.3          Unknown       0  \n",
       "3          Urban              64.87  28.8     never smoked       0  \n",
       "4          Rural              73.36  28.8     never smoked       0  "
      ]
     },
     "metadata": {},
     "output_type": "display_data"
    },
    {
     "name": "stdout",
     "output_type": "stream",
     "text": [
      "\n",
      "The shape of the training dataset is: (15304, 12)\n",
      "\n"
     ]
    }
   ],
   "source": [
    "# Display the first few rows of the data\n",
    "print('The first few rows of the training dataset:\\n')\n",
    "display(train.head())\n",
    "print()\n",
    "\n",
    "# Display the shape of the data\n",
    "print(f'The shape of the training dataset is: {train.shape}')\n",
    "print()"
   ]
  },
  {
   "cell_type": "code",
   "execution_count": 5,
   "id": "281d1b0d",
   "metadata": {
    "execution": {
     "iopub.execute_input": "2023-04-13T13:36:12.148358Z",
     "iopub.status.busy": "2023-04-13T13:36:12.146951Z",
     "iopub.status.idle": "2023-04-13T13:36:12.155455Z",
     "shell.execute_reply": "2023-04-13T13:36:12.153948Z"
    },
    "papermill": {
     "duration": 0.016713,
     "end_time": "2023-04-13T13:36:12.157932",
     "exception": false,
     "start_time": "2023-04-13T13:36:12.141219",
     "status": "completed"
    },
    "tags": []
   },
   "outputs": [
    {
     "name": "stdout",
     "output_type": "stream",
     "text": [
      "id                     int64\n",
      "gender                object\n",
      "age                  float64\n",
      "hypertension           int64\n",
      "heart_disease          int64\n",
      "ever_married          object\n",
      "work_type             object\n",
      "Residence_type        object\n",
      "avg_glucose_level    float64\n",
      "bmi                  float64\n",
      "smoking_status        object\n",
      "stroke                 int64\n",
      "dtype: object\n"
     ]
    }
   ],
   "source": [
    "# Checking datatypes\n",
    "print(train.dtypes)"
   ]
  },
  {
   "cell_type": "markdown",
   "id": "3a7f42cb",
   "metadata": {
    "papermill": {
     "duration": 0.004155,
     "end_time": "2023-04-13T13:36:12.166739",
     "exception": false,
     "start_time": "2023-04-13T13:36:12.162584",
     "status": "completed"
    },
    "tags": []
   },
   "source": [
    "All of the variables in the dataset have the correct data type."
   ]
  },
  {
   "cell_type": "markdown",
   "id": "f8c70b67",
   "metadata": {
    "papermill": {
     "duration": 0.003977,
     "end_time": "2023-04-13T13:36:12.175112",
     "exception": false,
     "start_time": "2023-04-13T13:36:12.171135",
     "status": "completed"
    },
    "tags": []
   },
   "source": [
    "### Checking for Missing Values"
   ]
  },
  {
   "cell_type": "code",
   "execution_count": 6,
   "id": "2549ec15",
   "metadata": {
    "execution": {
     "iopub.execute_input": "2023-04-13T13:36:12.186565Z",
     "iopub.status.busy": "2023-04-13T13:36:12.185572Z",
     "iopub.status.idle": "2023-04-13T13:36:12.202538Z",
     "shell.execute_reply": "2023-04-13T13:36:12.201614Z"
    },
    "papermill": {
     "duration": 0.025106,
     "end_time": "2023-04-13T13:36:12.204832",
     "exception": false,
     "start_time": "2023-04-13T13:36:12.179726",
     "status": "completed"
    },
    "tags": []
   },
   "outputs": [
    {
     "name": "stdout",
     "output_type": "stream",
     "text": [
      "Missing values per column in the training dataset:\n"
     ]
    },
    {
     "data": {
      "text/plain": [
       "id                   0\n",
       "gender               0\n",
       "age                  0\n",
       "hypertension         0\n",
       "heart_disease        0\n",
       "ever_married         0\n",
       "work_type            0\n",
       "Residence_type       0\n",
       "avg_glucose_level    0\n",
       "bmi                  0\n",
       "smoking_status       0\n",
       "stroke               0\n",
       "dtype: int64"
      ]
     },
     "metadata": {},
     "output_type": "display_data"
    }
   ],
   "source": [
    "# Check for missing data\n",
    "print('Missing values per column in the training dataset:')\n",
    "display(train.isnull().sum())"
   ]
  },
  {
   "cell_type": "markdown",
   "id": "51533154",
   "metadata": {
    "papermill": {
     "duration": 0.004369,
     "end_time": "2023-04-13T13:36:12.213974",
     "exception": false,
     "start_time": "2023-04-13T13:36:12.209605",
     "status": "completed"
    },
    "tags": []
   },
   "source": [
    "This is good news because it means we can skip the data imputation step, which may introduce bias or errors into our analysis. Although there are no visible missing values we still need to handle the \"Unknown\" in smoking_status means that the information is unavailable for this patient."
   ]
  },
  {
   "cell_type": "code",
   "execution_count": null,
   "id": "496a91ad",
   "metadata": {
    "papermill": {
     "duration": 0.004251,
     "end_time": "2023-04-13T13:36:12.222845",
     "exception": false,
     "start_time": "2023-04-13T13:36:12.218594",
     "status": "completed"
    },
    "tags": []
   },
   "outputs": [],
   "source": []
  }
 ],
 "metadata": {
  "kernelspec": {
   "display_name": "Python 3",
   "language": "python",
   "name": "python3"
  },
  "language_info": {
   "codemirror_mode": {
    "name": "ipython",
    "version": 3
   },
   "file_extension": ".py",
   "mimetype": "text/x-python",
   "name": "python",
   "nbconvert_exporter": "python",
   "pygments_lexer": "ipython3",
   "version": "3.7.12"
  },
  "papermill": {
   "default_parameters": {},
   "duration": 13.471799,
   "end_time": "2023-04-13T13:36:13.052419",
   "environment_variables": {},
   "exception": null,
   "input_path": "__notebook__.ipynb",
   "output_path": "__notebook__.ipynb",
   "parameters": {},
   "start_time": "2023-04-13T13:35:59.580620",
   "version": "2.4.0"
  }
 },
 "nbformat": 4,
 "nbformat_minor": 5
}
